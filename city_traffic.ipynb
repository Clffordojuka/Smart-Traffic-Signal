{
 "cells": [
  {
   "cell_type": "code",
   "execution_count": 1,
   "metadata": {},
   "outputs": [
    {
     "name": "stdout",
     "output_type": "stream",
     "text": [
      "✅ Directories verified and ready: 'dataset/images/', 'dataset/labels/', 'dataset/videos/'\n"
     ]
    }
   ],
   "source": [
    "# Setup - Import Libraries and Create Directories\n",
    "import cv2\n",
    "import numpy as np\n",
    "import os\n",
    "\n",
    "# Create necessary directories\n",
    "os.makedirs('dataset/images', exist_ok=True)\n",
    "os.makedirs('dataset/labels', exist_ok=True)\n",
    "print(\"✅ Directories verified and ready: 'dataset/images/', 'dataset/labels/', 'dataset/videos/'\")"
   ]
  },
  {
   "cell_type": "code",
   "execution_count": 2,
   "metadata": {},
   "outputs": [
    {
     "name": "stdout",
     "output_type": "stream",
     "text": [
      "Generating 50 images of size 600x400 with 3 lanes.\n"
     ]
    }
   ],
   "source": [
    "# Define Dataset Generation Parameters\n",
    "num_images = 50\n",
    "height, width = 400, 600\n",
    "lane_count = 3\n",
    "\n",
    "print(f\"Generating {num_images} images of size {width}x{height} with {lane_count} lanes.\")"
   ]
  },
  {
   "cell_type": "code",
   "execution_count": 3,
   "metadata": {},
   "outputs": [
    {
     "name": "stdout",
     "output_type": "stream",
     "text": [
      "\n",
      "✅ Successfully generated 50 images.\n"
     ]
    }
   ],
   "source": [
    "# Generate Simulated Images\n",
    "for img_idx in range(1, num_images + 1):\n",
    "    traffic_image = np.zeros((height, width, 3), dtype=np.uint8)\n",
    "\n",
    "    # Draw lane lines\n",
    "    lane_width = width // lane_count\n",
    "    for i in range(1, lane_count):\n",
    "        cv2.line(traffic_image, (i * lane_width, 0), (i * lane_width, height), (255, 255, 255), 2)\n",
    "\n",
    "    num_cars = np.random.randint(5, 10)\n",
    "\n",
    "    for car_id in range(1, num_cars + 1):\n",
    "        lane = np.random.randint(0, lane_count)\n",
    "        x_start = lane * lane_width + np.random.randint(10, lane_width - 50)\n",
    "        y_start = np.random.randint(30, height - 30)\n",
    "        car_width = np.random.randint(30, 50)\n",
    "        car_height = np.random.randint(20, 30)\n",
    "\n",
    "        car_color = tuple(np.random.randint(50, 256, size=3).tolist())\n",
    "\n",
    "        cv2.rectangle(traffic_image, (x_start, y_start), \n",
    "                      (x_start + car_width, y_start + car_height), \n",
    "                      car_color, -1)\n",
    "\n",
    "        label = f\"Car {car_id}\"\n",
    "        cv2.putText(traffic_image, label, (x_start, y_start - 5), \n",
    "                    cv2.FONT_HERSHEY_SIMPLEX, 0.5, (255, 255, 255), 1)\n",
    "\n",
    "        # Save image per iteration\n",
    "        img_filename = f\"traffic_{img_idx}.png\"\n",
    "    \n",
    "    cv2.imwrite(f\"dataset/images/{img_filename}\", traffic_image)\n",
    "\n",
    "print(f\"\\n✅ Successfully generated {num_images} images.\")"
   ]
  },
  {
   "cell_type": "code",
   "execution_count": 4,
   "metadata": {},
   "outputs": [
    {
     "name": "stdout",
     "output_type": "stream",
     "text": [
      "✅ YOLO annotations generated for all images.\n"
     ]
    }
   ],
   "source": [
    "# Generate YOLO Annotations\n",
    "for img_idx in range(1, num_images + 1):\n",
    "    traffic_image = cv2.imread(f\"dataset/images/traffic_{img_idx}.png\")\n",
    "    height, width, _ = traffic_image.shape\n",
    "\n",
    "    # Recreate car positions for annotation (same logic for consistency)\n",
    "    lane_width = width // lane_count\n",
    "    num_cars = np.random.randint(5, 10)\n",
    "    yolo_annotations = []\n",
    "\n",
    "    for car_id in range(1, num_cars + 1):\n",
    "        lane = np.random.randint(0, lane_count)\n",
    "        x_start = lane * lane_width + np.random.randint(10, lane_width - 50)\n",
    "        y_start = np.random.randint(30, height - 30)\n",
    "        car_width = np.random.randint(30, 50)\n",
    "        car_height = np.random.randint(20, 30)\n",
    "\n",
    "        class_id = 0  # 'car' class\n",
    "        x_center = (x_start + car_width / 2) / width\n",
    "        y_center = (y_start + car_height / 2) / height\n",
    "        norm_width = car_width / width\n",
    "        norm_height = car_height / height\n",
    "        yolo_annotations.append(f\"{class_id} {x_center:.6f} {y_center:.6f} {norm_width:.6f} {norm_height:.6f}\")\n",
    "\n",
    "    label_filename = f\"traffic_{img_idx}.txt\"\n",
    "    with open(f\"dataset/labels/{label_filename}\", 'w') as label_file:\n",
    "        label_file.write('\\n'.join(yolo_annotations))\n",
    "\n",
    "print(\"✅ YOLO annotations generated for all images.\")"
   ]
  },
  {
   "cell_type": "code",
   "execution_count": 5,
   "metadata": {},
   "outputs": [
    {
     "data": {
      "image/png": "[encoded data removed]",
      "text/plain": [
       "<Figure size 640x480 with 1 Axes>"
      ]
     },
     "metadata": {},
     "output_type": "display_data"
    }
   ],
   "source": [
    "import matplotlib.pyplot as plt\n",
    "\n",
    "sample_img = cv2.imread(\"dataset/images/traffic_30.png\")\n",
    "\n",
    "# Convert BGR (OpenCV default) to RGB for correct color display\n",
    "sample_img_rgb = cv2.cvtColor(sample_img, cv2.COLOR_BGR2RGB)\n",
    "\n",
    "# Display with matplotlib\n",
    "plt.imshow(sample_img_rgb)\n",
    "plt.title(\"Sample Simulated Traffic\")\n",
    "plt.axis('off')  # Hide axes\n",
    "plt.show()"
   ]
  },
  {
   "cell_type": "code",
   "execution_count": null,
   "metadata": {},
   "outputs": [
    {
     "name": "stdout",
     "output_type": "stream",
     "text": [
      "🚦 AI Traffic Signal started... Press 'q' to quit.\n",
      "✅ Detection complete. Output saved to: dataset/videos/ai_traffic_signal_output.avi\n"
     ]
    }
   ],
   "source": [
    "import cv2\n",
    "import numpy as np\n",
    "from ultralytics import YOLO\n",
    "import time\n",
    "import os\n",
    "\n",
    "# Debug Check 1: Verify Model File Exists\n",
    "MODEL_PATH = 'yolov8n.pt'\n",
    "if not os.path.exists(MODEL_PATH):\n",
    "    raise FileNotFoundError(f\"❌ Error: YOLO model not found at {MODEL_PATH}\")\n",
    "\n",
    "# Load YOLOv8 model\n",
    "model = YOLO(MODEL_PATH)\n",
    "\n",
    "# Debug Check 2: Verify Video File Exists\n",
    "VIDEO_PATH = 'dataset/videos/simulated_traffic_video.avi'\n",
    "if not os.path.exists(VIDEO_PATH):\n",
    "    raise FileNotFoundError(f\"❌ Error: Video file not found at {VIDEO_PATH}\")\n",
    "\n",
    "# Load video\n",
    "cap = cv2.VideoCapture(VIDEO_PATH)\n",
    "if not cap.isOpened():\n",
    "    raise RuntimeError(f\"❌ Error: Cannot open video at {VIDEO_PATH}\")\n",
    "\n",
    "# Get video properties\n",
    "frame_width = int(cap.get(cv2.CAP_PROP_FRAME_WIDTH))\n",
    "frame_height = int(cap.get(cv2.CAP_PROP_FRAME_HEIGHT))\n",
    "fps = cap.get(cv2.CAP_PROP_FPS)\n",
    "lane_width = frame_width // 3\n",
    "\n",
    "# Output video writer\n",
    "OUTPUT_PATH = 'dataset/videos/ai_traffic_signal_output.avi'\n",
    "fourcc = cv2.VideoWriter_fourcc(*'MJPG')\n",
    "out = cv2.VideoWriter(OUTPUT_PATH, fourcc, fps, (frame_width, frame_height))\n",
    "print(f\"🚦 AI Traffic Signal started... Press 'q' to quit.\")\n",
    "\n",
    "# Define vehicle classes of interest (YOLO class IDs)\n",
    "vehicle_classes = [2, 3, 5, 7]  # Car, Motorcycle, Bus, Truck\n",
    "\n",
    "# Signal color mapping\n",
    "signal_colors = {\n",
    "    'Green': (0, 255, 0),\n",
    "    'Yellow': (0, 255, 255),\n",
    "    'Red': (0, 0, 255)\n",
    "}\n",
    "\n",
    "# Start processing\n",
    "frame_count = 0\n",
    "while True:\n",
    "    ret, frame = cap.read()\n",
    "    if not ret:\n",
    "        print(\"✅ Processing complete!\")\n",
    "        break\n",
    "\n",
    "    frame_count += 1\n",
    "    start_time = time.time()\n",
    "\n",
    "    # Debug Check 3: Ensure Frame is Read Correctly\n",
    "    if frame is None:\n",
    "        print(f\"❌ Error: Frame {frame_count} is empty!\")\n",
    "        continue\n",
    "\n",
    "    # Show raw frame (for debugging)\n",
    "    cv2.imshow(\"Raw Frame\", frame)\n",
    "    cv2.waitKey(1)\n",
    "\n",
    "    # YOLOv8 inference with lower confidence threshold\n",
    "    results = model(frame, conf=0.1, verbose=False)[0]\n",
    "    \n",
    "    # Debug Check 4: Print detected objects\n",
    "    if len(results.boxes) == 0:\n",
    "        print(f\"Frame {frame_count}: ⚠️ No objects detected!\")\n",
    "    else:\n",
    "        print(f\"Frame {frame_count}: ✅ {len(results.boxes)} objects detected!\")\n",
    "\n",
    "    # Initialize lane vehicle counts\n",
    "    lane_counts = [0, 0, 0]\n",
    "\n",
    "    # Count vehicles per lane\n",
    "    for box in results.boxes:\n",
    "        cls = int(box.cls[0])\n",
    "        if cls in vehicle_classes:\n",
    "            x1, y1, x2, y2 = map(int, box.xyxy[0])\n",
    "            cx = (x1 + x2) // 2\n",
    "            lane_idx = min(cx // lane_width, 2)\n",
    "            lane_counts[lane_idx] += 1\n",
    "\n",
    "    # Decision: assign signal based on vehicle counts\n",
    "    max_lane = np.argmax(lane_counts)\n",
    "    lane_signals = ['Red', 'Red', 'Red']\n",
    "    lane_signals[max_lane] = 'Green'\n",
    "\n",
    "    # Draw lane lines\n",
    "    cv2.line(frame, (lane_width, 0), (lane_width, frame_height), (255, 255, 255), 2)\n",
    "    cv2.line(frame, (2 * lane_width, 0), (2 * lane_width, frame_height), (255, 255, 255), 2)\n",
    "\n",
    "    # Draw signal lights and text for each lane\n",
    "    for i in range(3):\n",
    "        cx = lane_width * i + lane_width // 2\n",
    "        cv2.circle(frame, (cx, 30), 15, signal_colors[lane_signals[i]], -1)\n",
    "        cv2.putText(frame, f\"Lane {i+1}: {lane_counts[i]} vehicles\", (lane_width * i + 10, 70),\n",
    "                    cv2.FONT_HERSHEY_SIMPLEX, 0.6, (255, 255, 255), 2)\n",
    "\n",
    "    # Overlay global status\n",
    "    overlay_text = f\"Active Lane: {max_lane+1} ({lane_signals[max_lane]})\"\n",
    "    cv2.putText(frame, overlay_text, (10, frame_height - 20), cv2.FONT_HERSHEY_SIMPLEX, 0.7, (0, 255, 255), 2)\n",
    "\n",
    "    # FPS Calculation\n",
    "    fps_val = 1 / (time.time() - start_time)\n",
    "    cv2.putText(frame, f\"FPS: {fps_val:.1f}\", (frame_width - 120, 30), cv2.FONT_HERSHEY_SIMPLEX, 0.6, (0, 255, 0), 2)\n",
    "\n",
    "    # Save frame\n",
    "    out.write(frame)\n",
    "\n",
    "cap.release()\n",
    "out.release()\n",
    "cv2.destroyAllWindows()\n",
    "print(f\"✅ Detection complete. Output saved to: {OUTPUT_PATH}\")\n"
   ]
  }
 ],
 "metadata": {
  "kernelspec": {
   "display_name": "base",
   "language": "python",
   "name": "python3"
  },
  "language_info": {
   "codemirror_mode": {
    "name": "ipython",
    "version": 3
   },
   "file_extension": ".py",
   "mimetype": "text/x-python",
   "name": "python",
   "nbconvert_exporter": "python",
   "pygments_lexer": "ipython3",
   "version": "3.11.5"
  }
 },
 "nbformat": 4,
 "nbformat_minor": 2
}
